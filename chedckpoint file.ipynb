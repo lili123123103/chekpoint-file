{
 "cells": [
  {
   "cell_type": "code",
   "execution_count": 37,
   "id": "2ce5ea2d-384b-40fa-a822-4713fb484882",
   "metadata": {},
   "outputs": [
    {
     "data": {
      "text/plain": [
       "'What is Python language?                                                \\nPython is a widely used high-level, general-purpose, interpreted, dynamic programming language.Its design philosophy emphasizes code readability, and its syntax allows programmers to express concepts in fewer lines of code than possible in \\nlanguages such as C++ or Java. \\nPython supports multiple programming paradigms, including object-oriented, imperative and functional programming or procedural styles. It features a dynamic type system and automatic memory management and has a large and comprehensive standard library.The best way we learn anything is by practice and exercise questions. We  have started this section for those (beginner to intermediate) who are familiar with Python.'"
      ]
     },
     "execution_count": 37,
     "metadata": {},
     "output_type": "execute_result"
    }
   ],
   "source": [
    "#exercice 1\n",
    "f=open(\"python.txt\",'rt')\n",
    "f.read()"
   ]
  },
  {
   "cell_type": "code",
   "execution_count": null,
   "id": "b8689b4f-273a-4236-af0a-b5c60345acd6",
   "metadata": {},
   "outputs": [],
   "source": [
    "#exercice 2\n"
   ]
  },
  {
   "cell_type": "code",
   "execution_count": 38,
   "id": "8c35c8e7-134a-4b99-bbab-3d9f4d84614b",
   "metadata": {},
   "outputs": [
    {
     "name": "stdout",
     "output_type": "stream",
     "text": [
      "What is Python language?                                                \n",
      "Python is a widely used high-level, general-purpose, interpreted, dynamic programming language.Its design philosophy emphasizes code readability, and its syntax allows programmers to express concepts in fewer lines of code than possible in \n",
      "languages such as C++ or Java. \n",
      "Python supports multiple programming paradigms, including object-oriented, imperative and functional programming or procedural styles. It features a dynamic type system and automatic memory management and has a large and comprehensive standard library.The best way we learn anything is by practice and exercise questions. We  have started this section for those (beginner to intermediate) who are familiar with Python."
     ]
    }
   ],
   "source": [
    "f = open(\"python.txt\",'rt',encoding = 'utf-8')\n",
    "for line in f:\n",
    "       print(line, end = '')"
   ]
  },
  {
   "cell_type": "markdown",
   "id": "323a70e4-0a6f-448f-9434-055a57408782",
   "metadata": {},
   "source": [
    "for line in range (n):\n",
    "    print (file.readlines())"
   ]
  },
  {
   "cell_type": "code",
   "execution_count": 42,
   "id": "6d43b5f8-119b-4467-8f76-834cd0d5dc44",
   "metadata": {},
   "outputs": [
    {
     "name": "stdin",
     "output_type": "stream",
     "text": [
      "nombe de lignes 2\n"
     ]
    },
    {
     "name": "stdout",
     "output_type": "stream",
     "text": [
      "What is Python language?                                                \n",
      "\n",
      "Python is a widely used high-level, general-purpose, interpreted, dynamic programming language.Its design philosophy emphasizes code readability, and its syntax allows programmers to express concepts in fewer lines of code than possible in \n",
      "\n"
     ]
    }
   ],
   "source": [
    "#exercice 3\n",
    "f = open(\"python.txt\",'rt',encoding = 'utf-8')\n",
    "x=int(input(\"nombe de lignes\"))\n",
    "for i in range (x):\n",
    "    y=f.readline()\n",
    "    print(y)"
   ]
  },
  {
   "cell_type": "code",
   "execution_count": null,
   "id": "81e75121-5819-4d4d-877f-eff70f189792",
   "metadata": {},
   "outputs": [],
   "source": [
    "#exercice 4\n",
    "f=open('python.txt','rt',encoding='utf-8')\n",
    "x=int(input('nb de lignes'))\n",
    "y=f.readlines()\n",
    "print(y[-x:])"
   ]
  },
  {
   "cell_type": "code",
   "execution_count": null,
   "id": "f8bb7659-a194-48a5-a264-0acfa9320fb5",
   "metadata": {},
   "outputs": [],
   "source": []
  }
 ],
 "metadata": {
  "kernelspec": {
   "display_name": "Python 3",
   "language": "python",
   "name": "python3"
  },
  "language_info": {
   "codemirror_mode": {
    "name": "ipython",
    "version": 3
   },
   "file_extension": ".py",
   "mimetype": "text/x-python",
   "name": "python",
   "nbconvert_exporter": "python",
   "pygments_lexer": "ipython3",
   "version": "3.8.8"
  }
 },
 "nbformat": 4,
 "nbformat_minor": 5
}
